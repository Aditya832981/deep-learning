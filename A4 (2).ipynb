{
 "cells": [
  {
   "cell_type": "code",
   "execution_count": 1,
   "id": "96f02b69-c498-4cc8-846f-ef9cead4f0b7",
   "metadata": {},
   "outputs": [
    {
     "name": "stdout",
     "output_type": "stream",
     "text": [
      "WARNING:tensorflow:From C:\\Users\\adity\\anaconda3\\Lib\\site-packages\\keras\\src\\losses.py:2976: The name tf.losses.sparse_softmax_cross_entropy is deprecated. Please use tf.compat.v1.losses.sparse_softmax_cross_entropy instead.\n",
      "\n"
     ]
    }
   ],
   "source": [
    "import numpy as np\n",
    "import matplotlib.pyplot as plt\n",
    "from tensorflow.keras.datasets import mnist\n",
    "from tensorflow.keras.models import Model\n",
    "from tensorflow.keras.layers import Input ,Dense\n",
    "from tensorflow.keras.optimizers import Adam"
   ]
  },
  {
   "cell_type": "code",
   "execution_count": 2,
   "id": "c377d915-368c-4005-8fe7-31b7b2651ca4",
   "metadata": {},
   "outputs": [],
   "source": [
    "(x_train, y_train),(x_test,y_test) = mnist.load_data()\n",
    "\n",
    "\n",
    "x_train = x_train.astype('float32') /255\n",
    "x_test = x_test.astype('float32') /255\n",
    "x_train = x_train.reshape(x_train.shape[0],28 * 28)\n",
    "x_test = x_test.reshape(x_test.shape[0], 28 * 28)\n",
    "\n",
    "normal_data = x_train[y_train ==1]"
   ]
  },
  {
   "cell_type": "code",
   "execution_count": 3,
   "id": "c4ecaf08-9dd1-4839-ba3d-eb9c6a9fc01a",
   "metadata": {},
   "outputs": [
    {
     "name": "stdout",
     "output_type": "stream",
     "text": [
      "(6742, 784)\n"
     ]
    }
   ],
   "source": [
    "print(normal_data.shape)"
   ]
  },
  {
   "cell_type": "code",
   "execution_count": 4,
   "id": "1cda801b-c9eb-48ed-ab68-33c49c66a91e",
   "metadata": {},
   "outputs": [
    {
     "name": "stdout",
     "output_type": "stream",
     "text": [
      "WARNING:tensorflow:From C:\\Users\\adity\\anaconda3\\Lib\\site-packages\\keras\\src\\backend.py:1398: The name tf.executing_eagerly_outside_functions is deprecated. Please use tf.compat.v1.executing_eagerly_outside_functions instead.\n",
      "\n"
     ]
    }
   ],
   "source": [
    "input_dim = normal_data.shape[1]\n",
    "encoding_dim = 32\n",
    "\n",
    "input_layer = Input(shape=(input_dim,))\n",
    "encoder = Dense(encoding_dim,  activation='relu')(input_layer)"
   ]
  },
  {
   "cell_type": "code",
   "execution_count": 5,
   "id": "f06de6ab-80cb-4d5a-b1b9-15920fa370c8",
   "metadata": {},
   "outputs": [],
   "source": [
    "decoder = Dense(input_dim, activation='sigmoid')(encoder)\n",
    "\n",
    "autoencoder = Model(inputs=input_layer, outputs=decoder)\n",
    "\n",
    "encoder_model = Model(inputs=input_layer, outputs=encoder)\n"
   ]
  },
  {
   "cell_type": "code",
   "execution_count": 6,
   "id": "ea7c0b12-baba-44d9-a492-51baf4a0d263",
   "metadata": {},
   "outputs": [
    {
     "name": "stdout",
     "output_type": "stream",
     "text": [
      "Epoch 1/50\n",
      "WARNING:tensorflow:From C:\\Users\\adity\\anaconda3\\Lib\\site-packages\\keras\\src\\utils\\tf_utils.py:492: The name tf.ragged.RaggedTensorValue is deprecated. Please use tf.compat.v1.ragged.RaggedTensorValue instead.\n",
      "\n",
      "27/27 [==============================] - 1s 7ms/step - loss: 0.1804\n",
      "Epoch 2/50\n",
      "27/27 [==============================] - 0s 5ms/step - loss: 0.0423\n",
      "Epoch 3/50\n",
      "27/27 [==============================] - 0s 4ms/step - loss: 0.0265\n",
      "Epoch 4/50\n",
      "27/27 [==============================] - 0s 5ms/step - loss: 0.0210\n",
      "Epoch 5/50\n",
      "27/27 [==============================] - 0s 4ms/step - loss: 0.0179\n",
      "Epoch 6/50\n",
      "27/27 [==============================] - 0s 5ms/step - loss: 0.0161\n",
      "Epoch 7/50\n",
      "27/27 [==============================] - 0s 5ms/step - loss: 0.0150\n",
      "Epoch 8/50\n",
      "27/27 [==============================] - 0s 4ms/step - loss: 0.0143\n",
      "Epoch 9/50\n",
      "27/27 [==============================] - 0s 4ms/step - loss: 0.0137\n",
      "Epoch 10/50\n",
      "27/27 [==============================] - 0s 5ms/step - loss: 0.0133\n",
      "Epoch 11/50\n",
      "27/27 [==============================] - 0s 5ms/step - loss: 0.0129\n",
      "Epoch 12/50\n",
      "27/27 [==============================] - 0s 7ms/step - loss: 0.0125\n",
      "Epoch 13/50\n",
      "27/27 [==============================] - 0s 7ms/step - loss: 0.0120\n",
      "Epoch 14/50\n",
      "27/27 [==============================] - 0s 6ms/step - loss: 0.0116\n",
      "Epoch 15/50\n",
      "27/27 [==============================] - 0s 5ms/step - loss: 0.0111\n",
      "Epoch 16/50\n",
      "27/27 [==============================] - 0s 7ms/step - loss: 0.0106\n",
      "Epoch 17/50\n",
      "27/27 [==============================] - 0s 7ms/step - loss: 0.0101\n",
      "Epoch 18/50\n",
      "27/27 [==============================] - 0s 6ms/step - loss: 0.0097\n",
      "Epoch 19/50\n",
      "27/27 [==============================] - 0s 9ms/step - loss: 0.0092\n",
      "Epoch 20/50\n",
      "27/27 [==============================] - 0s 8ms/step - loss: 0.0088\n",
      "Epoch 21/50\n",
      "27/27 [==============================] - 0s 7ms/step - loss: 0.0084\n",
      "Epoch 22/50\n",
      "27/27 [==============================] - 0s 8ms/step - loss: 0.0080\n",
      "Epoch 23/50\n",
      "27/27 [==============================] - 0s 7ms/step - loss: 0.0077\n",
      "Epoch 24/50\n",
      "27/27 [==============================] - 0s 6ms/step - loss: 0.0074\n",
      "Epoch 25/50\n",
      "27/27 [==============================] - 0s 6ms/step - loss: 0.0072\n",
      "Epoch 26/50\n",
      "27/27 [==============================] - 0s 9ms/step - loss: 0.0069\n",
      "Epoch 27/50\n",
      "27/27 [==============================] - 0s 7ms/step - loss: 0.0067\n",
      "Epoch 28/50\n",
      "27/27 [==============================] - 0s 5ms/step - loss: 0.0065\n",
      "Epoch 29/50\n",
      "27/27 [==============================] - 0s 7ms/step - loss: 0.0063\n",
      "Epoch 30/50\n",
      "27/27 [==============================] - 0s 5ms/step - loss: 0.0061\n",
      "Epoch 31/50\n",
      "27/27 [==============================] - 0s 8ms/step - loss: 0.0060\n",
      "Epoch 32/50\n",
      "27/27 [==============================] - 0s 6ms/step - loss: 0.0058\n",
      "Epoch 33/50\n",
      "27/27 [==============================] - 0s 6ms/step - loss: 0.0057\n",
      "Epoch 34/50\n",
      "27/27 [==============================] - 0s 5ms/step - loss: 0.0055\n",
      "Epoch 35/50\n",
      "27/27 [==============================] - 0s 8ms/step - loss: 0.0054\n",
      "Epoch 36/50\n",
      "27/27 [==============================] - 0s 7ms/step - loss: 0.0053\n",
      "Epoch 37/50\n",
      "27/27 [==============================] - 0s 6ms/step - loss: 0.0052\n",
      "Epoch 38/50\n",
      "27/27 [==============================] - 0s 8ms/step - loss: 0.0051\n",
      "Epoch 39/50\n",
      "27/27 [==============================] - 0s 7ms/step - loss: 0.0050\n",
      "Epoch 40/50\n",
      "27/27 [==============================] - 0s 8ms/step - loss: 0.0049\n",
      "Epoch 41/50\n",
      "27/27 [==============================] - 0s 8ms/step - loss: 0.0048\n",
      "Epoch 42/50\n",
      "27/27 [==============================] - 0s 8ms/step - loss: 0.0047\n",
      "Epoch 43/50\n",
      "27/27 [==============================] - 0s 7ms/step - loss: 0.0046\n",
      "Epoch 44/50\n",
      "27/27 [==============================] - 0s 5ms/step - loss: 0.0045\n",
      "Epoch 45/50\n",
      "27/27 [==============================] - 0s 8ms/step - loss: 0.0045\n",
      "Epoch 46/50\n",
      "27/27 [==============================] - 0s 7ms/step - loss: 0.0044\n",
      "Epoch 47/50\n",
      "27/27 [==============================] - 0s 6ms/step - loss: 0.0043\n",
      "Epoch 48/50\n",
      "27/27 [==============================] - 0s 7ms/step - loss: 0.0043\n",
      "Epoch 49/50\n",
      "27/27 [==============================] - 0s 7ms/step - loss: 0.0042\n",
      "Epoch 50/50\n",
      "27/27 [==============================] - 0s 5ms/step - loss: 0.0041\n"
     ]
    },
    {
     "data": {
      "text/plain": [
       "<keras.src.callbacks.History at 0x1a50e700450>"
      ]
     },
     "execution_count": 6,
     "metadata": {},
     "output_type": "execute_result"
    }
   ],
   "source": [
    "autoencoder.compile(optimizer=Adam(), loss='mean_squared_error')\n",
    "\n",
    "autoencoder.fit(normal_data, normal_data, epochs=50, batch_size=256, shuffle=True)"
   ]
  },
  {
   "cell_type": "code",
   "execution_count": 7,
   "id": "a0e0f45a-f822-4b10-9c89-eaa405c8ac76",
   "metadata": {},
   "outputs": [
    {
     "name": "stdout",
     "output_type": "stream",
     "text": [
      "313/313 [==============================] - 1s 2ms/step\n"
     ]
    },
    {
     "data": {
      "image/png": "[encoded data removed]",
      "text/plain": [
       "<Figure size 2000x400 with 20 Axes>"
      ]
     },
     "metadata": {},
     "output_type": "display_data"
    }
   ],
   "source": [
    "reconstructed = autoencoder.predict(x_test)\n",
    "\n",
    "mse = np.mean(np.power(x_test - reconstructed ,2), axis=1)\n",
    "\n",
    "threshold = 0.01 \n",
    "anomalies = mse > threshold\n",
    "\n",
    "n=10\n",
    "plt.figure(figsize=(20 , 4))\n",
    "\n",
    "for i in range(n):\n",
    "    ax=plt.subplot(2, n, i + 1)\n",
    "    plt.imshow(x_test[i].reshape(28, 28), cmap='gray')\n",
    "    plt.title(\"original\" + ('(Anomaly)' if anomalies[i] else \"\"))\n",
    "\n",
    "    ax = plt.subplot(2, n, i + n + 1)\n",
    "    plt.imshow(reconstructed[i].reshape(28, 28), cmap=\"gray\")\n",
    "    plt.title(\"Reconstructed\")\n",
    "    plt.axis(\"off\")\n",
    "\n",
    "plt.show()"
   ]
  },
  {
   "cell_type": "code",
   "execution_count": null,
   "id": "715d73d3-2add-4b44-b68d-4637ea96637e",
   "metadata": {},
   "outputs": [],
   "source": []
  }
 ],
 "metadata": {
  "kernelspec": {
   "display_name": "Python 3 (ipykernel)",
   "language": "python",
   "name": "python3"
  },
  "language_info": {
   "codemirror_mode": {
    "name": "ipython",
    "version": 3
   },
   "file_extension": ".py",
   "mimetype": "text/x-python",
   "name": "python",
   "nbconvert_exporter": "python",
   "pygments_lexer": "ipython3",
   "version": "3.11.3"
  }
 },
 "nbformat": 4,
 "nbformat_minor": 5
}
